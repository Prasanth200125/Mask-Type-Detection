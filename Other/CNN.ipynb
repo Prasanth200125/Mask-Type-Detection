{
  "cells": [
    {
      "cell_type": "markdown",
      "metadata": {
        "id": "Xhhxa4Z3agH_"
      },
      "source": [
        "**CNN - Convolutional Neural Network**"
      ]
    },
    {
      "cell_type": "code",
      "execution_count": null,
      "metadata": {
        "colab": {
          "base_uri": "https://localhost:8080/"
        },
        "id": "SL9ZXZsUaqN7",
        "outputId": "ac46514b-8a30-4479-8df0-2ca6e84a7939"
      },
      "outputs": [
        {
          "name": "stdout",
          "output_type": "stream",
          "text": [
            "Mounted at /content/drive\n"
          ]
        }
      ],
      "source": [
        "from google.colab import drive\n",
        "drive.mount('/content/drive')"
      ]
    },
    {
      "cell_type": "code",
      "execution_count": null,
      "metadata": {
        "execution": {
          "iopub.execute_input": "2022-07-15T12:28:23.270953Z",
          "iopub.status.busy": "2022-07-15T12:28:23.270440Z",
          "iopub.status.idle": "2022-07-15T12:28:40.483871Z",
          "shell.execute_reply": "2022-07-15T12:28:40.482877Z",
          "shell.execute_reply.started": "2022-07-15T12:28:23.270865Z"
        },
        "id": "HSUO63hDagH_",
        "trusted": true
      },
      "outputs": [],
      "source": [
        "import os\n",
        "\n",
        "loc = '/content/drive/MyDrive/Mask/Dataset/train'\n",
        "\n",
        "img_loc = ['cloth' , 'n95' , 'n95v' , 'nfm' , 'srg']\n",
        "\n",
        "import cv2\n",
        "\n",
        "features = []\n",
        "\n",
        "for img in img_loc:\n",
        "    k = os.path.join(loc,img)\n",
        "    for i in os.listdir(k):\n",
        "        f = cv2.imread(os.path.join(k,i))\n",
        "        f = cv2.resize(f,(150,150))\n",
        "        features.append(f)"
      ]
    },
    {
      "cell_type": "code",
      "execution_count": null,
      "metadata": {
        "execution": {
          "iopub.execute_input": "2022-07-15T12:28:40.486575Z",
          "iopub.status.busy": "2022-07-15T12:28:40.485899Z",
          "iopub.status.idle": "2022-07-15T12:28:40.537966Z",
          "shell.execute_reply": "2022-07-15T12:28:40.536901Z",
          "shell.execute_reply.started": "2022-07-15T12:28:40.486536Z"
        },
        "id": "iM36VsS5agH_",
        "trusted": true
      },
      "outputs": [],
      "source": [
        "import numpy as np\n",
        "X = np.array(features)"
      ]
    },
    {
      "cell_type": "code",
      "execution_count": null,
      "metadata": {
        "execution": {
          "iopub.execute_input": "2022-07-15T12:28:40.774573Z",
          "iopub.status.busy": "2022-07-15T12:28:40.774314Z",
          "iopub.status.idle": "2022-07-15T12:28:40.803552Z",
          "shell.execute_reply": "2022-07-15T12:28:40.802575Z",
          "shell.execute_reply.started": "2022-07-15T12:28:40.774548Z"
        },
        "id": "Dha6ww3GagIA",
        "trusted": true
      },
      "outputs": [],
      "source": [
        "labels = []\n",
        "\n",
        "l = 0\n",
        "\n",
        "for img in img_loc:\n",
        "    k = os.path.join(loc,img)\n",
        "    for i in os.listdir(k):\n",
        "        labels.append(l)\n",
        "    l += 1"
      ]
    },
    {
      "cell_type": "code",
      "execution_count": null,
      "metadata": {
        "execution": {
          "iopub.execute_input": "2022-07-15T12:28:40.804981Z",
          "iopub.status.busy": "2022-07-15T12:28:40.804630Z",
          "iopub.status.idle": "2022-07-15T12:28:40.812832Z",
          "shell.execute_reply": "2022-07-15T12:28:40.812031Z",
          "shell.execute_reply.started": "2022-07-15T12:28:40.804945Z"
        },
        "id": "ZEGkVNpcagIA",
        "trusted": true
      },
      "outputs": [],
      "source": [
        "Y = np.array(labels)"
      ]
    },
    {
      "cell_type": "code",
      "execution_count": null,
      "metadata": {
        "execution": {
          "iopub.execute_input": "2022-07-15T12:28:40.814613Z",
          "iopub.status.busy": "2022-07-15T12:28:40.814141Z",
          "iopub.status.idle": "2022-07-15T12:28:46.411551Z",
          "shell.execute_reply": "2022-07-15T12:28:46.410119Z",
          "shell.execute_reply.started": "2022-07-15T12:28:40.814576Z"
        },
        "id": "kmnBJblvagIA",
        "trusted": true
      },
      "outputs": [],
      "source": [
        "import keras\n",
        "from keras.utils import np_utils\n",
        "\n",
        "Yt = np_utils.to_categorical(Y)"
      ]
    },
    {
      "cell_type": "code",
      "execution_count": null,
      "metadata": {
        "execution": {
          "iopub.execute_input": "2022-07-15T12:28:46.413641Z",
          "iopub.status.busy": "2022-07-15T12:28:46.412944Z",
          "iopub.status.idle": "2022-07-15T12:28:47.494506Z",
          "shell.execute_reply": "2022-07-15T12:28:47.493408Z",
          "shell.execute_reply.started": "2022-07-15T12:28:46.413611Z"
        },
        "id": "RlhPr04_agIA",
        "trusted": true
      },
      "outputs": [],
      "source": [
        "mean = np.mean(X)\n",
        "std = np.std(X)\n",
        "\n",
        "Xt = (X - mean) / std"
      ]
    },
    {
      "cell_type": "code",
      "execution_count": null,
      "metadata": {
        "execution": {
          "iopub.execute_input": "2022-07-15T12:28:47.691532Z",
          "iopub.status.busy": "2022-07-15T12:28:47.690186Z",
          "iopub.status.idle": "2022-07-15T12:28:48.428655Z",
          "shell.execute_reply": "2022-07-15T12:28:48.427598Z",
          "shell.execute_reply.started": "2022-07-15T12:28:47.691494Z"
        },
        "id": "ivkhhUMYagIB",
        "trusted": true
      },
      "outputs": [],
      "source": [
        "from sklearn.model_selection import train_test_split\n",
        "xtrain,xtest,ytrain,ytest = train_test_split(Xt,Yt,train_size=0.8)"
      ]
    },
    {
      "cell_type": "markdown",
      "metadata": {},
      "source": [
        "CNN-1"
      ]
    },
    {
      "cell_type": "code",
      "execution_count": null,
      "metadata": {
        "execution": {
          "iopub.execute_input": "2022-07-15T13:23:07.850376Z",
          "iopub.status.busy": "2022-07-15T13:23:07.849987Z",
          "iopub.status.idle": "2022-07-15T13:23:07.856793Z",
          "shell.execute_reply": "2022-07-15T13:23:07.855661Z",
          "shell.execute_reply.started": "2022-07-15T13:23:07.850345Z"
        },
        "id": "KCP4DNM0agIB",
        "trusted": true
      },
      "outputs": [],
      "source": [
        "import keras\n",
        "from keras.models import Sequential\n",
        "from keras.layers import Dense, Activation , Flatten, Conv2D, MaxPooling2D, Dropout\n",
        "from keras import regularizers\n",
        "import numpy as np\n",
        "from keras import optimizers"
      ]
    },
    {
      "cell_type": "code",
      "execution_count": null,
      "metadata": {
        "execution": {
          "iopub.execute_input": "2022-07-15T13:26:56.211576Z",
          "iopub.status.busy": "2022-07-15T13:26:56.211222Z",
          "iopub.status.idle": "2022-07-15T13:26:56.436024Z",
          "shell.execute_reply": "2022-07-15T13:26:56.435096Z",
          "shell.execute_reply.started": "2022-07-15T13:26:56.211548Z"
        },
        "id": "7OixC0B4agIB",
        "trusted": true
      },
      "outputs": [],
      "source": [
        "weight_decay = 0.0001\n",
        "\n",
        "cnn1 = Sequential()\n",
        "model.add(Conv2D(32 , (3,3) , padding='same' , kernel_regularizer = regularizers.l2(weight_decay) , input_shape=xtrain.shape[1:]))\n",
        "model.add(Activation('relu'))\n",
        "model.add(Conv2D(32 , (3,3) , padding='same' , kernel_regularizer = regularizers.l2(weight_decay)))\n",
        "model.add(Activation('relu'))\n",
        "model.add(MaxPooling2D(pool_size=(2,2)))\n",
        "model.add(Dropout(0.2))\n",
        "\n",
        "model.add(Conv2D(64 , (3,3) , padding='same' , kernel_regularizer = regularizers.l2(weight_decay)))\n",
        "model.add(Activation('relu'))\n",
        "model.add(Conv2D(64 , (3,3) , padding='same' , kernel_regularizer = regularizers.l2(weight_decay)))\n",
        "model.add(Activation('relu'))\n",
        "model.add(MaxPooling2D(pool_size=(2,2)))\n",
        "model.add(Dropout(0.3))\n",
        "\n",
        "model.add(Conv2D(128 , (3,3) , padding='same' , kernel_regularizer = regularizers.l2(weight_decay)))\n",
        "model.add(Activation('relu'))\n",
        "model.add(Conv2D(128 , (3,3) , padding='same' , kernel_regularizer = regularizers.l2(weight_decay)))\n",
        "model.add(Activation('relu'))\n",
        "model.add(MaxPooling2D(pool_size=(2,2)))\n",
        "model.add(Dropout(0.4))\n",
        "\n",
        "model.add(Conv2D(256 , (3,3) , padding='same' , kernel_regularizer = regularizers.l2(weight_decay)))\n",
        "model.add(Activation('relu'))\n",
        "model.add(Conv2D(256 , (3,3) , padding='same' , kernel_regularizer = regularizers.l2(weight_decay)))\n",
        "model.add(Activation('relu'))\n",
        "model.add(MaxPooling2D(pool_size=(2,2)))\n",
        "model.add(Dropout(0.4))\n",
        "\n",
        "model.add(Conv2D(512 , (3,3) , padding='same' , kernel_regularizer = regularizers.l2(weight_decay)))\n",
        "model.add(Activation('relu'))\n",
        "model.add(Conv2D(512 , (3,3) , padding='same' , kernel_regularizer = regularizers.l2(weight_decay)))\n",
        "model.add(Activation('relu'))\n",
        "model.add(MaxPooling2D(pool_size=(2,2)))\n",
        "model.add(Dropout(0.4))\n",
        "\n",
        "model.add(Conv2D(1024 , (3,3) , padding='same' , kernel_regularizer = regularizers.l2(weight_decay)))\n",
        "model.add(Activation('relu'))\n",
        "model.add(Conv2D(1024 , (3,3) , padding='same' , kernel_regularizer = regularizers.l2(weight_decay)))\n",
        "model.add(Activation('relu'))\n",
        "model.add(MaxPooling2D(pool_size=(2,2)))\n",
        "model.add(Dropout(0.4))\n",
        "model.add(Conv2D(2048 , (3,3) , padding='same' , kernel_regularizer = regularizers.l2(weight_decay)))\n",
        "model.add(Activation('relu'))\n",
        "model.add(Conv2D(2048 , (3,3) , padding='same' , kernel_regularizer = regularizers.l2(weight_decay)))\n",
        "model.add(Activation('relu'))\n",
        "model.add(MaxPooling2D(pool_size=(2,2)))\n",
        "model.add(Dropout(0.4))\n",
        "model.add(Flatten())\n",
        "model.add(Dense(5 , activation='sigmoid'))"
      ]
    },
    {
      "cell_type": "code",
      "execution_count": null,
      "metadata": {
        "id": "Sgyi4sZt0C_J"
      },
      "outputs": [],
      "source": [
        "model = Sequential() \n",
        "model.add(Flatten(input_shape=xtrain.shape[1:])) \n",
        "model.add(Dense(100, activation=keras.layers.LeakyReLU(alpha=0.3))) \n",
        "model.add(Dropout(0.5)) \n",
        "model.add(Dense(50, activation=keras.layers.LeakyReLU(alpha=0.3))) \n",
        "model.add(Dropout(0.3)) \n",
        "model.add(Dense(5, activation='softmax'))\n",
        "\n",
        "model.compile(loss='categorical_crossentropy',optimizer='sgd',metrics=['acc'])"
      ]
    },
    {
      "cell_type": "code",
      "execution_count": null,
      "metadata": {
        "id": "fpuyjlZe2Eqb"
      },
      "outputs": [],
      "source": [
        "cnn2 = keras.models.Sequential()\n",
        "cnn.add(keras.layers.Conv2D(filters=48, kernel_size=3, activation='relu', input_shape=xtrain.shape[1:]))\n",
        "cnn.add(keras.layers.MaxPool2D(pool_size=2, strides=2))\n",
        "cnn.add(keras.layers.Conv2D(filters=48, kernel_size=3, activation='relu'))\n",
        "cnn.add(keras.layers.MaxPool2D(pool_size=2, strides=2))\n",
        "cnn.add(keras.layers.Conv2D(filters=32, kernel_size=3, activation='relu'))\n",
        "cnn.add(keras.layers.MaxPool2D(pool_size=2, strides=2))\n",
        "cnn.add(keras.layers.Flatten())\n",
        "cnn.add(keras.layers.Dense(128, activation='relu'))\n",
        "cnn.add(keras.layers.Dense(64, activation='relu'))\n",
        "cnn.add(keras.layers.Dense(5, activation='softmax'))\n",
        "\n",
        "# finally compile and train the cnn\n",
        "cnn.compile(optimizer=\"sgd\", loss=\"categorical_crossentropy\", metrics=[\"accuracy\"])"
      ]
    },
    {
      "cell_type": "code",
      "execution_count": null,
      "metadata": {
        "colab": {
          "base_uri": "https://localhost:8080/"
        },
        "execution": {
          "iopub.execute_input": "2022-07-15T13:26:59.913065Z",
          "iopub.status.busy": "2022-07-15T13:26:59.912698Z",
          "iopub.status.idle": "2022-07-15T13:26:59.922012Z",
          "shell.execute_reply": "2022-07-15T13:26:59.920943Z",
          "shell.execute_reply.started": "2022-07-15T13:26:59.913037Z"
        },
        "id": "SbYUQUtBagIC",
        "outputId": "0d58c0b4-b4f5-46e3-9d40-9f138968b7ba",
        "trusted": true
      },
      "outputs": [
        {
          "name": "stdout",
          "output_type": "stream",
          "text": [
            "Model: \"sequential_2\"\n",
            "_________________________________________________________________\n",
            " Layer (type)                Output Shape              Param #   \n",
            "=================================================================\n",
            " conv2d_24 (Conv2D)          (None, 150, 150, 32)      896       \n",
            "                                                                 \n",
            " activation_24 (Activation)  (None, 150, 150, 32)      0         \n",
            "                                                                 \n",
            " conv2d_25 (Conv2D)          (None, 150, 150, 32)      9248      \n",
            "                                                                 \n",
            " activation_25 (Activation)  (None, 150, 150, 32)      0         \n",
            "                                                                 \n",
            " max_pooling2d_12 (MaxPoolin  (None, 75, 75, 32)       0         \n",
            " g2D)                                                            \n",
            "                                                                 \n",
            " dropout_12 (Dropout)        (None, 75, 75, 32)        0         \n",
            "                                                                 \n",
            " conv2d_26 (Conv2D)          (None, 75, 75, 64)        18496     \n",
            "                                                                 \n",
            " activation_26 (Activation)  (None, 75, 75, 64)        0         \n",
            "                                                                 \n",
            " conv2d_27 (Conv2D)          (None, 75, 75, 64)        36928     \n",
            "                                                                 \n",
            " activation_27 (Activation)  (None, 75, 75, 64)        0         \n",
            "                                                                 \n",
            " max_pooling2d_13 (MaxPoolin  (None, 37, 37, 64)       0         \n",
            " g2D)                                                            \n",
            "                                                                 \n",
            " dropout_13 (Dropout)        (None, 37, 37, 64)        0         \n",
            "                                                                 \n",
            " conv2d_28 (Conv2D)          (None, 37, 37, 128)       73856     \n",
            "                                                                 \n",
            " activation_28 (Activation)  (None, 37, 37, 128)       0         \n",
            "                                                                 \n",
            " conv2d_29 (Conv2D)          (None, 37, 37, 128)       147584    \n",
            "                                                                 \n",
            " activation_29 (Activation)  (None, 37, 37, 128)       0         \n",
            "                                                                 \n",
            " max_pooling2d_14 (MaxPoolin  (None, 18, 18, 128)      0         \n",
            " g2D)                                                            \n",
            "                                                                 \n",
            " dropout_14 (Dropout)        (None, 18, 18, 128)       0         \n",
            "                                                                 \n",
            " conv2d_30 (Conv2D)          (None, 18, 18, 256)       295168    \n",
            "                                                                 \n",
            " activation_30 (Activation)  (None, 18, 18, 256)       0         \n",
            "                                                                 \n",
            " conv2d_31 (Conv2D)          (None, 18, 18, 256)       590080    \n",
            "                                                                 \n",
            " activation_31 (Activation)  (None, 18, 18, 256)       0         \n",
            "                                                                 \n",
            " max_pooling2d_15 (MaxPoolin  (None, 9, 9, 256)        0         \n",
            " g2D)                                                            \n",
            "                                                                 \n",
            " dropout_15 (Dropout)        (None, 9, 9, 256)         0         \n",
            "                                                                 \n",
            " conv2d_32 (Conv2D)          (None, 9, 9, 512)         1180160   \n",
            "                                                                 \n",
            " activation_32 (Activation)  (None, 9, 9, 512)         0         \n",
            "                                                                 \n",
            " conv2d_33 (Conv2D)          (None, 9, 9, 512)         2359808   \n",
            "                                                                 \n",
            " activation_33 (Activation)  (None, 9, 9, 512)         0         \n",
            "                                                                 \n",
            " max_pooling2d_16 (MaxPoolin  (None, 4, 4, 512)        0         \n",
            " g2D)                                                            \n",
            "                                                                 \n",
            " dropout_16 (Dropout)        (None, 4, 4, 512)         0         \n",
            "                                                                 \n",
            " conv2d_34 (Conv2D)          (None, 4, 4, 1024)        4719616   \n",
            "                                                                 \n",
            " activation_34 (Activation)  (None, 4, 4, 1024)        0         \n",
            "                                                                 \n",
            " conv2d_35 (Conv2D)          (None, 4, 4, 1024)        9438208   \n",
            "                                                                 \n",
            " activation_35 (Activation)  (None, 4, 4, 1024)        0         \n",
            "                                                                 \n",
            " max_pooling2d_17 (MaxPoolin  (None, 2, 2, 1024)       0         \n",
            " g2D)                                                            \n",
            "                                                                 \n",
            " dropout_17 (Dropout)        (None, 2, 2, 1024)        0         \n",
            "                                                                 \n",
            " flatten_2 (Flatten)         (None, 4096)              0         \n",
            "                                                                 \n",
            " dense_2 (Dense)             (None, 5)                 20485     \n",
            "                                                                 \n",
            "=================================================================\n",
            "Total params: 18,890,533\n",
            "Trainable params: 18,890,533\n",
            "Non-trainable params: 0\n",
            "_________________________________________________________________\n"
          ]
        }
      ],
      "source": [
        "cnn1.summary()"
      ]
    },
    {
      "cell_type": "code",
      "execution_count": null,
      "metadata": {
        "colab": {
          "base_uri": "https://localhost:8080/"
        },
        "id": "KyVPvwho-ja3",
        "outputId": "6529d6b8-dda9-4279-cb3d-fd76cd6c5f4c"
      },
      "outputs": [
        {
          "name": "stdout",
          "output_type": "stream",
          "text": [
            "Model: \"sequential_2\"\n",
            "_________________________________________________________________\n",
            " Layer (type)                Output Shape              Param #   \n",
            "=================================================================\n",
            " conv2d_3 (Conv2D)           (None, 148, 148, 48)      1344      \n",
            "                                                                 \n",
            " max_pooling2d_3 (MaxPooling  (None, 74, 74, 48)       0         \n",
            " 2D)                                                             \n",
            "                                                                 \n",
            " conv2d_4 (Conv2D)           (None, 72, 72, 48)        20784     \n",
            "                                                                 \n",
            " max_pooling2d_4 (MaxPooling  (None, 36, 36, 48)       0         \n",
            " 2D)                                                             \n",
            "                                                                 \n",
            " conv2d_5 (Conv2D)           (None, 34, 34, 32)        13856     \n",
            "                                                                 \n",
            " max_pooling2d_5 (MaxPooling  (None, 17, 17, 32)       0         \n",
            " 2D)                                                             \n",
            "                                                                 \n",
            " flatten_2 (Flatten)         (None, 9248)              0         \n",
            "                                                                 \n",
            " dense_6 (Dense)             (None, 128)               1183872   \n",
            "                                                                 \n",
            " dense_7 (Dense)             (None, 64)                8256      \n",
            "                                                                 \n",
            " dense_8 (Dense)             (None, 5)                 325       \n",
            "                                                                 \n",
            "=================================================================\n",
            "Total params: 1,228,437\n",
            "Trainable params: 1,228,437\n",
            "Non-trainable params: 0\n",
            "_________________________________________________________________\n"
          ]
        }
      ],
      "source": [
        "cnn2.summary()"
      ]
    },
    {
      "cell_type": "code",
      "execution_count": null,
      "metadata": {
        "execution": {
          "iopub.execute_input": "2022-07-15T13:27:14.701434Z",
          "iopub.status.busy": "2022-07-15T13:27:14.701033Z",
          "iopub.status.idle": "2022-07-15T13:27:14.714251Z",
          "shell.execute_reply": "2022-07-15T13:27:14.713019Z",
          "shell.execute_reply.started": "2022-07-15T13:27:14.701399Z"
        },
        "id": "8uCQLpp8agIC",
        "trusted": true
      },
      "outputs": [],
      "source": [
        "cnn1.compile(optimizer='sgd' , loss = 'categorical_crossentropy' , metrics = ['accuracy'])"
      ]
    },
    {
      "cell_type": "markdown",
      "metadata": {
        "id": "DUBBVcvoagIC"
      },
      "source": [
        "* verbose = 0 :- will show nothing during training or silent\n",
        "* verbose = 1 :- will show an animated progress bar [==========================]\n",
        "* verbose = 2 :- will just mention the number of epochs like 1/20"
      ]
    },
    {
      "cell_type": "code",
      "execution_count": null,
      "metadata": {
        "colab": {
          "base_uri": "https://localhost:8080/"
        },
        "execution": {
          "iopub.execute_input": "2022-07-15T13:27:32.718000Z",
          "iopub.status.busy": "2022-07-15T13:27:32.717655Z",
          "iopub.status.idle": "2022-07-15T13:39:56.577507Z",
          "shell.execute_reply": "2022-07-15T13:39:56.576237Z",
          "shell.execute_reply.started": "2022-07-15T13:27:32.717966Z"
        },
        "id": "jgasxXYdagIC",
        "outputId": "7aa7b2ee-5978-4fe7-f84e-f749692ef2a9",
        "trusted": true
      },
      "outputs": [
        {
          "name": "stdout",
          "output_type": "stream",
          "text": [
            "Epoch 1/25\n",
            "25/25 [==============================] - 2s 69ms/step - loss: 1.5624 - accuracy: 0.3465 - val_loss: 1.4814 - val_accuracy: 0.4184\n",
            "Epoch 2/25\n",
            "25/25 [==============================] - 1s 58ms/step - loss: 1.4068 - accuracy: 0.4597 - val_loss: 1.3407 - val_accuracy: 0.4694\n",
            "Epoch 3/25\n",
            "25/25 [==============================] - 1s 57ms/step - loss: 1.2719 - accuracy: 0.5026 - val_loss: 1.5065 - val_accuracy: 0.3903\n",
            "Epoch 4/25\n",
            "25/25 [==============================] - 1s 58ms/step - loss: 1.1976 - accuracy: 0.5352 - val_loss: 1.2313 - val_accuracy: 0.4847\n",
            "Epoch 5/25\n",
            "25/25 [==============================] - 1s 58ms/step - loss: 1.0906 - accuracy: 0.5723 - val_loss: 1.1335 - val_accuracy: 0.5638\n",
            "Epoch 6/25\n",
            "25/25 [==============================] - 1s 57ms/step - loss: 1.0484 - accuracy: 0.5946 - val_loss: 1.0555 - val_accuracy: 0.5918\n",
            "Epoch 7/25\n",
            "25/25 [==============================] - 1s 58ms/step - loss: 0.9977 - accuracy: 0.6170 - val_loss: 1.0135 - val_accuracy: 0.5995\n",
            "Epoch 8/25\n",
            "25/25 [==============================] - 1s 58ms/step - loss: 0.9585 - accuracy: 0.6285 - val_loss: 0.9998 - val_accuracy: 0.5867\n",
            "Epoch 9/25\n",
            "25/25 [==============================] - 1s 58ms/step - loss: 0.9321 - accuracy: 0.6426 - val_loss: 1.0036 - val_accuracy: 0.6429\n",
            "Epoch 10/25\n",
            "25/25 [==============================] - 1s 58ms/step - loss: 0.8825 - accuracy: 0.6522 - val_loss: 0.9439 - val_accuracy: 0.6173\n",
            "Epoch 11/25\n",
            "25/25 [==============================] - 1s 57ms/step - loss: 0.8612 - accuracy: 0.6675 - val_loss: 0.9531 - val_accuracy: 0.6148\n",
            "Epoch 12/25\n",
            "25/25 [==============================] - 2s 64ms/step - loss: 0.8649 - accuracy: 0.6643 - val_loss: 1.0372 - val_accuracy: 0.5816\n",
            "Epoch 13/25\n",
            "25/25 [==============================] - 1s 57ms/step - loss: 0.7823 - accuracy: 0.7014 - val_loss: 0.9935 - val_accuracy: 0.6327\n",
            "Epoch 14/25\n",
            "25/25 [==============================] - 1s 58ms/step - loss: 0.7705 - accuracy: 0.6988 - val_loss: 1.0490 - val_accuracy: 0.5918\n",
            "Epoch 15/25\n",
            "25/25 [==============================] - 1s 58ms/step - loss: 0.7599 - accuracy: 0.7142 - val_loss: 1.1537 - val_accuracy: 0.5612\n",
            "Epoch 16/25\n",
            "25/25 [==============================] - 1s 58ms/step - loss: 0.7189 - accuracy: 0.7193 - val_loss: 0.9239 - val_accuracy: 0.6224\n",
            "Epoch 17/25\n",
            "25/25 [==============================] - 1s 58ms/step - loss: 0.6811 - accuracy: 0.7423 - val_loss: 0.8869 - val_accuracy: 0.6837\n",
            "Epoch 18/25\n",
            "25/25 [==============================] - 1s 57ms/step - loss: 0.6297 - accuracy: 0.7558 - val_loss: 1.0644 - val_accuracy: 0.6148\n",
            "Epoch 19/25\n",
            "25/25 [==============================] - 1s 58ms/step - loss: 0.6472 - accuracy: 0.7468 - val_loss: 0.9852 - val_accuracy: 0.5944\n",
            "Epoch 20/25\n",
            "25/25 [==============================] - 1s 58ms/step - loss: 0.6056 - accuracy: 0.7660 - val_loss: 1.1640 - val_accuracy: 0.5740\n",
            "Epoch 21/25\n",
            "25/25 [==============================] - 1s 57ms/step - loss: 0.5566 - accuracy: 0.7909 - val_loss: 0.8593 - val_accuracy: 0.6658\n",
            "Epoch 22/25\n",
            "25/25 [==============================] - 2s 64ms/step - loss: 0.5621 - accuracy: 0.7871 - val_loss: 0.9580 - val_accuracy: 0.6301\n",
            "Epoch 23/25\n",
            "25/25 [==============================] - 1s 57ms/step - loss: 0.5164 - accuracy: 0.8050 - val_loss: 0.9142 - val_accuracy: 0.6837\n",
            "Epoch 24/25\n",
            "25/25 [==============================] - 1s 58ms/step - loss: 0.4560 - accuracy: 0.8382 - val_loss: 0.9486 - val_accuracy: 0.6531\n",
            "Epoch 25/25\n",
            "25/25 [==============================] - 1s 58ms/step - loss: 0.4597 - accuracy: 0.8389 - val_loss: 1.0442 - val_accuracy: 0.5995\n"
          ]
        },
        {
          "data": {
            "text/plain": [
              "<keras.callbacks.History at 0x7fe54a40a6d0>"
            ]
          },
          "execution_count": 42,
          "metadata": {},
          "output_type": "execute_result"
        }
      ],
      "source": [
        "cnn2.fit(xtrain,ytrain,epochs=25, batch_size=64 , validation_data=(xtest,ytest))"
      ]
    },
    {
      "cell_type": "code",
      "execution_count": null,
      "metadata": {
        "colab": {
          "base_uri": "https://localhost:8080/"
        },
        "id": "54-27vko_AVg",
        "outputId": "39188056-3405-424d-994f-32d4d1a2d25f"
      },
      "outputs": [
        {
          "name": "stdout",
          "output_type": "stream",
          "text": [
            "Epoch 1/25\n",
            "25/25 [==============================] - 6s 213ms/step - loss: 1.9412 - accuracy: 0.2212 - val_loss: 1.9402 - val_accuracy: 0.2806\n",
            "Epoch 2/25\n",
            "25/25 [==============================] - 5s 200ms/step - loss: 1.9389 - accuracy: 0.2263 - val_loss: 1.9374 - val_accuracy: 0.2806\n",
            "Epoch 3/25\n",
            "25/25 [==============================] - 5s 201ms/step - loss: 1.9351 - accuracy: 0.2302 - val_loss: 1.9358 - val_accuracy: 0.2806\n",
            "Epoch 4/25\n",
            "25/25 [==============================] - 5s 203ms/step - loss: 1.9288 - accuracy: 0.2327 - val_loss: 1.9336 - val_accuracy: 0.2806\n",
            "Epoch 5/25\n",
            "25/25 [==============================] - 5s 204ms/step - loss: 1.9232 - accuracy: 0.2359 - val_loss: 1.9321 - val_accuracy: 0.3240\n",
            "Epoch 6/25\n",
            "25/25 [==============================] - 5s 205ms/step - loss: 1.9173 - accuracy: 0.2398 - val_loss: 1.9326 - val_accuracy: 0.3367\n",
            "Epoch 7/25\n",
            "25/25 [==============================] - 5s 205ms/step - loss: 1.9109 - accuracy: 0.2647 - val_loss: 1.9273 - val_accuracy: 0.3393\n",
            "Epoch 8/25\n",
            "25/25 [==============================] - 5s 203ms/step - loss: 1.9038 - accuracy: 0.2941 - val_loss: 1.9332 - val_accuracy: 0.2398\n",
            "Epoch 9/25\n",
            "25/25 [==============================] - 5s 202ms/step - loss: 1.8950 - accuracy: 0.3082 - val_loss: 1.9275 - val_accuracy: 0.2679\n",
            "Epoch 10/25\n",
            "25/25 [==============================] - 5s 200ms/step - loss: 1.8895 - accuracy: 0.3318 - val_loss: 1.9278 - val_accuracy: 0.2474\n",
            "Epoch 11/25\n",
            "25/25 [==============================] - 5s 201ms/step - loss: 1.8797 - accuracy: 0.3306 - val_loss: 1.9286 - val_accuracy: 0.2270\n",
            "Epoch 12/25\n",
            "25/25 [==============================] - 5s 200ms/step - loss: 1.8715 - accuracy: 0.3510 - val_loss: 1.9291 - val_accuracy: 0.2143\n",
            "Epoch 13/25\n",
            "25/25 [==============================] - 5s 201ms/step - loss: 1.8638 - accuracy: 0.3549 - val_loss: 1.9129 - val_accuracy: 0.2500\n",
            "Epoch 14/25\n",
            "25/25 [==============================] - 5s 200ms/step - loss: 1.8514 - accuracy: 0.3760 - val_loss: 1.9119 - val_accuracy: 0.2577\n",
            "Epoch 15/25\n",
            "25/25 [==============================] - 5s 200ms/step - loss: 1.8489 - accuracy: 0.3798 - val_loss: 1.9068 - val_accuracy: 0.2423\n",
            "Epoch 16/25\n",
            "25/25 [==============================] - 5s 210ms/step - loss: 1.8404 - accuracy: 0.3798 - val_loss: 1.8798 - val_accuracy: 0.3112\n",
            "Epoch 17/25\n",
            "25/25 [==============================] - 5s 201ms/step - loss: 1.8374 - accuracy: 0.3785 - val_loss: 1.8966 - val_accuracy: 0.2704\n",
            "Epoch 18/25\n",
            "25/25 [==============================] - 5s 210ms/step - loss: 1.8330 - accuracy: 0.3772 - val_loss: 1.8848 - val_accuracy: 0.2857\n",
            "Epoch 19/25\n",
            "25/25 [==============================] - 5s 201ms/step - loss: 1.8169 - accuracy: 0.3913 - val_loss: 1.8740 - val_accuracy: 0.3316\n",
            "Epoch 20/25\n",
            "25/25 [==============================] - 5s 201ms/step - loss: 1.8120 - accuracy: 0.3855 - val_loss: 1.8793 - val_accuracy: 0.2883\n",
            "Epoch 21/25\n",
            "25/25 [==============================] - 5s 201ms/step - loss: 1.8049 - accuracy: 0.3996 - val_loss: 1.9043 - val_accuracy: 0.2526\n",
            "Epoch 22/25\n",
            "25/25 [==============================] - 5s 201ms/step - loss: 1.8039 - accuracy: 0.4073 - val_loss: 1.8938 - val_accuracy: 0.2704\n",
            "Epoch 23/25\n",
            "25/25 [==============================] - 5s 201ms/step - loss: 1.8063 - accuracy: 0.3971 - val_loss: 1.9152 - val_accuracy: 0.2194\n",
            "Epoch 24/25\n",
            "25/25 [==============================] - 5s 202ms/step - loss: 1.7950 - accuracy: 0.4150 - val_loss: 1.8719 - val_accuracy: 0.2883\n",
            "Epoch 25/25\n",
            "25/25 [==============================] - 5s 201ms/step - loss: 1.7920 - accuracy: 0.4118 - val_loss: 1.8348 - val_accuracy: 0.3750\n"
          ]
        },
        {
          "data": {
            "text/plain": [
              "<keras.callbacks.History at 0x7f500a2b8ed0>"
            ]
          },
          "execution_count": 24,
          "metadata": {},
          "output_type": "execute_result"
        }
      ],
      "source": [
        "cnn1.fit(xtrain,ytrain,epochs=25, batch_size=64 , validation_data=(xtest,ytest))"
      ]
    },
    {
      "cell_type": "code",
      "execution_count": null,
      "metadata": {
        "colab": {
          "base_uri": "https://localhost:8080/"
        },
        "execution": {
          "iopub.execute_input": "2022-07-15T13:41:24.108029Z",
          "iopub.status.busy": "2022-07-15T13:41:24.107679Z",
          "iopub.status.idle": "2022-07-15T13:41:27.600206Z",
          "shell.execute_reply": "2022-07-15T13:41:27.599101Z",
          "shell.execute_reply.started": "2022-07-15T13:41:24.108000Z"
        },
        "id": "__ZFGtf1agID",
        "outputId": "f703accd-bfa8-43e0-a7bd-70a10e8f115d",
        "trusted": true
      },
      "outputs": [
        {
          "name": "stdout",
          "output_type": "stream",
          "text": [
            "49/49 [==============================] - 2s 37ms/step - loss: 1.8212 - accuracy: 0.3645\n"
          ]
        },
        {
          "data": {
            "text/plain": [
              "[1.821240782737732, 0.3644501268863678]"
            ]
          },
          "execution_count": 25,
          "metadata": {},
          "output_type": "execute_result"
        }
      ],
      "source": [
        "cnn1.evaluate(xtrain,ytrain)"
      ]
    },
    {
      "cell_type": "code",
      "execution_count": null,
      "metadata": {
        "colab": {
          "base_uri": "https://localhost:8080/"
        },
        "execution": {
          "iopub.execute_input": "2022-07-15T13:41:28.239091Z",
          "iopub.status.busy": "2022-07-15T13:41:28.238736Z",
          "iopub.status.idle": "2022-07-15T13:41:28.931599Z",
          "shell.execute_reply": "2022-07-15T13:41:28.930676Z",
          "shell.execute_reply.started": "2022-07-15T13:41:28.239062Z"
        },
        "id": "fBEJBCcHagID",
        "outputId": "78400b74-b687-4a6e-8f13-c4509f923974",
        "trusted": true
      },
      "outputs": [
        {
          "name": "stdout",
          "output_type": "stream",
          "text": [
            "13/13 [==============================] - 1s 38ms/step - loss: 1.8348 - accuracy: 0.3750\n"
          ]
        },
        {
          "data": {
            "text/plain": [
              "[1.834800362586975, 0.375]"
            ]
          },
          "execution_count": 26,
          "metadata": {},
          "output_type": "execute_result"
        }
      ],
      "source": [
        "cnn1.evaluate(xtest,ytest)"
      ]
    },
    {
      "cell_type": "code",
      "execution_count": null,
      "metadata": {
        "colab": {
          "base_uri": "https://localhost:8080/"
        },
        "id": "XmgODnTw-nqQ",
        "outputId": "c0d31915-2cdd-465e-ffe4-f41d496e1d8e"
      },
      "outputs": [
        {
          "name": "stdout",
          "output_type": "stream",
          "text": [
            "49/49 [==============================] - 1s 14ms/step - loss: 0.4836 - accuracy: 0.8095\n"
          ]
        },
        {
          "data": {
            "text/plain": [
              "[0.4836464822292328, 0.8094629049301147]"
            ]
          },
          "execution_count": 43,
          "metadata": {},
          "output_type": "execute_result"
        }
      ],
      "source": [
        "cnn2.evaluate(xtrain,ytrain)\n"
      ]
    },
    {
      "cell_type": "code",
      "execution_count": null,
      "metadata": {
        "colab": {
          "base_uri": "https://localhost:8080/"
        },
        "id": "GfkVRoBC-rku",
        "outputId": "2e76ce37-227a-44c8-e86c-d6593aed19ff"
      },
      "outputs": [
        {
          "name": "stdout",
          "output_type": "stream",
          "text": [
            "13/13 [==============================] - 0s 16ms/step - loss: 1.0442 - accuracy: 0.5995\n"
          ]
        },
        {
          "data": {
            "text/plain": [
              "[1.0442192554473877, 0.5994898080825806]"
            ]
          },
          "execution_count": 44,
          "metadata": {},
          "output_type": "execute_result"
        }
      ],
      "source": [
        "cnn2.evaluate(xtest,ytest)\n"
      ]
    },
    {
      "cell_type": "code",
      "execution_count": null,
      "metadata": {
        "colab": {
          "base_uri": "https://localhost:8080/"
        },
        "execution": {
          "iopub.execute_input": "2022-07-15T12:42:20.615240Z",
          "iopub.status.busy": "2022-07-15T12:42:20.614887Z",
          "iopub.status.idle": "2022-07-15T12:42:21.000890Z",
          "shell.execute_reply": "2022-07-15T12:42:21.000007Z",
          "shell.execute_reply.started": "2022-07-15T12:42:20.615209Z"
        },
        "id": "V1oTyPfdagID",
        "outputId": "ff3abfc8-c027-44a5-be9f-dae229f4643b",
        "trusted": true
      },
      "outputs": [
        {
          "data": {
            "text/plain": [
              "array([[9.9999452e-01, 6.9278832e-12, 1.0252351e-07, 8.3745147e-07,\n",
              "        4.5412344e-06]], dtype=float32)"
            ]
          },
          "execution_count": 33,
          "metadata": {},
          "output_type": "execute_result"
        }
      ],
      "source": [
        "cnn.predict(xtest[4].reshape(1,150,150,3))"
      ]
    },
    {
      "cell_type": "code",
      "execution_count": null,
      "metadata": {
        "colab": {
          "base_uri": "https://localhost:8080/"
        },
        "id": "687VG3UQ-s4q",
        "outputId": "4660a6ea-4f34-4b61-d721-c2a98328072b"
      },
      "outputs": [
        {
          "data": {
            "text/plain": [
              "array([[9.1505533e-01, 2.3637988e-02, 1.5202377e-03, 6.3841115e-04,\n",
              "        5.9148062e-02]], dtype=float32)"
            ]
          },
          "execution_count": 34,
          "metadata": {},
          "output_type": "execute_result"
        }
      ],
      "source": [
        "model.predict(xtest[4].reshape(1,150,150,3))\n"
      ]
    },
    {
      "cell_type": "code",
      "execution_count": null,
      "metadata": {
        "colab": {
          "base_uri": "https://localhost:8080/"
        },
        "execution": {
          "iopub.execute_input": "2022-07-15T12:42:21.132044Z",
          "iopub.status.busy": "2022-07-15T12:42:21.131399Z",
          "iopub.status.idle": "2022-07-15T12:42:21.197097Z",
          "shell.execute_reply": "2022-07-15T12:42:21.196240Z",
          "shell.execute_reply.started": "2022-07-15T12:42:21.132015Z"
        },
        "id": "41L1Bvx5agID",
        "outputId": "cafdd7fd-782a-4d82-b6a9-aebda2707f83",
        "trusted": true
      },
      "outputs": [
        {
          "data": {
            "text/plain": [
              "3"
            ]
          },
          "execution_count": 35,
          "metadata": {},
          "output_type": "execute_result"
        }
      ],
      "source": [
        "np.argmax(model.predict(xtest[40].reshape(1,150,150,3)))"
      ]
    },
    {
      "cell_type": "code",
      "execution_count": null,
      "metadata": {
        "colab": {
          "base_uri": "https://localhost:8080/"
        },
        "execution": {
          "iopub.execute_input": "2022-07-15T12:43:12.775950Z",
          "iopub.status.busy": "2022-07-15T12:43:12.775612Z",
          "iopub.status.idle": "2022-07-15T12:43:12.834948Z",
          "shell.execute_reply": "2022-07-15T12:43:12.834122Z",
          "shell.execute_reply.started": "2022-07-15T12:43:12.775925Z"
        },
        "id": "oB-mIQ7ZagID",
        "outputId": "6c268474-e991-4e36-b899-2ea9060c2b5c",
        "trusted": true
      },
      "outputs": [
        {
          "name": "stdout",
          "output_type": "stream",
          "text": [
            "n95v\n"
          ]
        }
      ],
      "source": [
        "print(img_loc[np.argmax(cnn.predict(xtest[98].reshape(1,150,150,3)))])"
      ]
    },
    {
      "cell_type": "code",
      "execution_count": null,
      "metadata": {
        "colab": {
          "base_uri": "https://localhost:8080/"
        },
        "id": "AT61qsZP-7Gl",
        "outputId": "694a43bc-ae81-4ab1-9707-599a29b7e5f5"
      },
      "outputs": [
        {
          "name": "stdout",
          "output_type": "stream",
          "text": [
            "n95v\n"
          ]
        }
      ],
      "source": [
        "print(img_loc[np.argmax(cnn.predict(xtest[98].reshape(1,150,150,3)))])\n"
      ]
    },
    {
      "cell_type": "code",
      "execution_count": null,
      "metadata": {
        "colab": {
          "base_uri": "https://localhost:8080/"
        },
        "execution": {
          "iopub.execute_input": "2022-07-15T12:43:16.019940Z",
          "iopub.status.busy": "2022-07-15T12:43:16.019505Z",
          "iopub.status.idle": "2022-07-15T12:43:16.027973Z",
          "shell.execute_reply": "2022-07-15T12:43:16.026943Z",
          "shell.execute_reply.started": "2022-07-15T12:43:16.019903Z"
        },
        "id": "7lBQBnOWagID",
        "outputId": "c88c0a40-7ace-4942-f0bf-5f5ba4bc9bc0",
        "trusted": true
      },
      "outputs": [
        {
          "name": "stdout",
          "output_type": "stream",
          "text": [
            "n95v\n"
          ]
        }
      ],
      "source": [
        "print(img_loc[np.argmax(ytest[98])])"
      ]
    },
    {
      "cell_type": "code",
      "execution_count": null,
      "metadata": {
        "colab": {
          "base_uri": "https://localhost:8080/",
          "height": 286
        },
        "execution": {
          "iopub.execute_input": "2022-07-15T12:43:20.114708Z",
          "iopub.status.busy": "2022-07-15T12:43:20.114207Z",
          "iopub.status.idle": "2022-07-15T12:43:20.338444Z",
          "shell.execute_reply": "2022-07-15T12:43:20.337517Z",
          "shell.execute_reply.started": "2022-07-15T12:43:20.114667Z"
        },
        "id": "3slWZa8DagID",
        "outputId": "ff3137e6-c080-4389-e93d-e7dc2cab4135",
        "trusted": true
      },
      "outputs": [
        {
          "name": "stderr",
          "output_type": "stream",
          "text": [
            "WARNING:matplotlib.image:Clipping input data to the valid range for imshow with RGB data ([0..1] for floats or [0..255] for integers).\n"
          ]
        },
        {
          "data": {
            "image/png": "[encoded data removed]",
            "text/plain": [
              "<Figure size 432x288 with 1 Axes>"
            ]
          },
          "metadata": {
            "needs_background": "light"
          },
          "output_type": "display_data"
        }
      ],
      "source": [
        "import matplotlib.pyplot as plt\n",
        "\n",
        "plt.imshow(xtest[98])\n",
        "plt.show()"
      ]
    },
    {
      "cell_type": "code",
      "execution_count": null,
      "metadata": {
        "colab": {
          "base_uri": "https://localhost:8080/"
        },
        "execution": {
          "iopub.execute_input": "2022-07-15T12:43:24.051803Z",
          "iopub.status.busy": "2022-07-15T12:43:24.051459Z",
          "iopub.status.idle": "2022-07-15T12:43:24.677306Z",
          "shell.execute_reply": "2022-07-15T12:43:24.676300Z",
          "shell.execute_reply.started": "2022-07-15T12:43:24.051777Z"
        },
        "id": "RgJwpVWtagID",
        "outputId": "67718c2f-a582-4632-b926-3ca35fb9ca7c",
        "trusted": true
      },
      "outputs": [
        {
          "data": {
            "text/plain": [
              "array([[46,  2,  8,  5, 16],\n",
              "       [ 9, 40, 20,  7,  7],\n",
              "       [11,  4, 48,  7,  8],\n",
              "       [ 9,  0,  2, 89,  1],\n",
              "       [ 8,  3, 12,  6, 24]])"
            ]
          },
          "execution_count": 30,
          "metadata": {},
          "output_type": "execute_result"
        }
      ],
      "source": [
        "ytest_pred = np.argmax(model.predict(xtest) , axis = 1)\n",
        "ytest_label = np.argmax(ytest , axis = 1)\n",
        "\n",
        "from sklearn.metrics import confusion_matrix\n",
        "confusion_matrix(ytest_label , ytest_pred)"
      ]
    },
    {
      "cell_type": "markdown",
      "metadata": {
        "id": "dZPN1P9AagIE"
      },
      "source": [
        "**Save the Model**"
      ]
    },
    {
      "cell_type": "code",
      "execution_count": null,
      "metadata": {
        "execution": {
          "iopub.execute_input": "2022-07-15T12:43:32.146418Z",
          "iopub.status.busy": "2022-07-15T12:43:32.146054Z",
          "iopub.status.idle": "2022-07-15T12:43:32.767867Z",
          "shell.execute_reply": "2022-07-15T12:43:32.766908Z",
          "shell.execute_reply.started": "2022-07-15T12:43:32.146388Z"
        },
        "id": "p2nXdLt7agIE",
        "trusted": true
      },
      "outputs": [],
      "source": [
        "model.save('my_model.h5') "
      ]
    },
    {
      "cell_type": "code",
      "execution_count": null,
      "metadata": {
        "id": "Lr-vqT9bagIE"
      },
      "outputs": [],
      "source": [
        "import pickle\n",
        "with open ('model_pickle','wb') as f:\n",
        "  pickle.dump(model,f)"
      ]
    },
    {
      "cell_type": "code",
      "execution_count": null,
      "metadata": {
        "id": "OwvnMQOYiESt"
      },
      "outputs": [],
      "source": [
        "import pickle\n",
        "with open ('model_pickle','rb') as f:\n",
        "  mod = pickle.load(f)"
      ]
    },
    {
      "cell_type": "code",
      "execution_count": null,
      "metadata": {
        "colab": {
          "base_uri": "https://localhost:8080/"
        },
        "id": "fby-O8jxiRG_",
        "outputId": "8438f4b3-0cbd-458d-a76b-0c72cd6be855"
      },
      "outputs": [
        {
          "data": {
            "text/plain": [
              "array([[0.628602  , 0.6163982 , 0.6035589 , 0.15153882, 0.67783165]],\n",
              "      dtype=float32)"
            ]
          },
          "execution_count": 30,
          "metadata": {},
          "output_type": "execute_result"
        }
      ],
      "source": [
        "mod.predict(xtest[20].reshape(1,150,150,3))"
      ]
    },
    {
      "cell_type": "code",
      "execution_count": null,
      "metadata": {
        "id": "oNsTMAoLjWC6"
      },
      "outputs": [],
      "source": []
    }
  ],
  "metadata": {
    "accelerator": "GPU",
    "colab": {
      "collapsed_sections": [],
      "provenance": []
    },
    "kernelspec": {
      "display_name": "Python 3.10.2 64-bit",
      "language": "python",
      "name": "python3"
    },
    "language_info": {
      "codemirror_mode": {
        "name": "ipython",
        "version": 3
      },
      "file_extension": ".py",
      "mimetype": "text/x-python",
      "name": "python",
      "nbconvert_exporter": "python",
      "pygments_lexer": "ipython3",
      "version": "3.10.2"
    },
    "vscode": {
      "interpreter": {
        "hash": "fbee61e53bb4a972b15e6bd8c724b108d32c7c11bd20e58b8f0e7b6a15dc77bd"
      }
    }
  },
  "nbformat": 4,
  "nbformat_minor": 0
}
